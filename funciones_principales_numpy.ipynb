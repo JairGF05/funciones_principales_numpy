{
  "nbformat": 4,
  "nbformat_minor": 0,
  "metadata": {
    "colab": {
      "provenance": [],
      "authorship_tag": "ABX9TyNTorj/XLDKkJ+WlyN/nGX5",
      "include_colab_link": true
    },
    "kernelspec": {
      "name": "python3",
      "display_name": "Python 3"
    },
    "language_info": {
      "name": "python"
    },
    "gpuClass": "standard"
  },
  "cells": [
    {
      "cell_type": "markdown",
      "metadata": {
        "id": "view-in-github",
        "colab_type": "text"
      },
      "source": [
        "<a href=\"https://colab.research.google.com/github/JairGF05/funciones_principales_numpy/blob/main/funciones_principales_numpy.ipynb\" target=\"_parent\"><img src=\"https://colab.research.google.com/assets/colab-badge.svg\" alt=\"Open In Colab\"/></a>"
      ]
    },
    {
      "cell_type": "code",
      "execution_count": 1,
      "metadata": {
        "id": "6XglgM2G95EI"
      },
      "outputs": [],
      "source": [
        "import numpy as np"
      ]
    },
    {
      "cell_type": "markdown",
      "source": [
        "# **Definición de números aleatorios**"
      ],
      "metadata": {
        "id": "hufdck_s-MEy"
      }
    },
    {
      "cell_type": "code",
      "source": [
        "#Un solo número entero aleatorio entre 1y 20\n",
        "np.random.randint(1,20)"
      ],
      "metadata": {
        "colab": {
          "base_uri": "https://localhost:8080/"
        },
        "id": "vSduoR8o_XZt",
        "outputId": "68ec184f-c8e2-40dd-97ce-478c62d0214e"
      },
      "execution_count": 2,
      "outputs": [
        {
          "output_type": "execute_result",
          "data": {
            "text/plain": [
              "2"
            ]
          },
          "metadata": {},
          "execution_count": 2
        }
      ]
    },
    {
      "cell_type": "code",
      "source": [
        "#Arreglo con 10 números aleatorios entre 1 y 20\n",
        "arr = np.random.randint(1,20,10)\n",
        "arr"
      ],
      "metadata": {
        "colab": {
          "base_uri": "https://localhost:8080/"
        },
        "id": "RveISG8o-Rq5",
        "outputId": "0f75a33b-f1e4-49e6-b545-00977269a444"
      },
      "execution_count": 3,
      "outputs": [
        {
          "output_type": "execute_result",
          "data": {
            "text/plain": [
              "array([12,  8, 10, 15, 16,  4,  5, 15, 15, 16])"
            ]
          },
          "metadata": {},
          "execution_count": 3
        }
      ]
    },
    {
      "cell_type": "code",
      "source": [
        "matriz = arr.reshape(2,5)\n",
        "matriz"
      ],
      "metadata": {
        "colab": {
          "base_uri": "https://localhost:8080/"
        },
        "id": "FA7mLsetK62M",
        "outputId": "b36ea8d6-f4f1-43c4-9000-949248a0c28a"
      },
      "execution_count": 4,
      "outputs": [
        {
          "output_type": "execute_result",
          "data": {
            "text/plain": [
              "array([[12,  8, 10, 15, 16],\n",
              "       [ 4,  5, 15, 15, 16]])"
            ]
          },
          "metadata": {},
          "execution_count": 4
        }
      ]
    },
    {
      "cell_type": "markdown",
      "source": [
        "# **Obtener el valor Mayor del array**"
      ],
      "metadata": {
        "id": "sJ7dNwnmnOLR"
      }
    },
    {
      "cell_type": "code",
      "source": [
        "#array\n",
        "max = arr.max()\n",
        "max\n"
      ],
      "metadata": {
        "colab": {
          "base_uri": "https://localhost:8080/"
        },
        "id": "nwSDBK9GnTEa",
        "outputId": "ae705060-7ce7-44ef-cb2e-ed2c3fa8c8a7"
      },
      "execution_count": 5,
      "outputs": [
        {
          "output_type": "execute_result",
          "data": {
            "text/plain": [
              "16"
            ]
          },
          "metadata": {},
          "execution_count": 5
        }
      ]
    },
    {
      "cell_type": "code",
      "source": [
        "#matriz\n",
        "max_mat = matriz.max()\n",
        "max_mat"
      ],
      "metadata": {
        "colab": {
          "base_uri": "https://localhost:8080/"
        },
        "id": "CCs5zMBNLZ0O",
        "outputId": "5ccdb6fa-8eac-4556-f8c6-b681f66d873e"
      },
      "execution_count": 6,
      "outputs": [
        {
          "output_type": "execute_result",
          "data": {
            "text/plain": [
              "16"
            ]
          },
          "metadata": {},
          "execution_count": 6
        }
      ]
    },
    {
      "cell_type": "code",
      "source": [
        "#Puedo obtener el maximo por fila de la matriz, especificando por que eje , en este caso por filas\n",
        "matriz\n"
      ],
      "metadata": {
        "colab": {
          "base_uri": "https://localhost:8080/"
        },
        "id": "YooE86bstdw1",
        "outputId": "cab34c1b-f15b-48af-af5d-426b81dc8f7e"
      },
      "execution_count": 7,
      "outputs": [
        {
          "output_type": "execute_result",
          "data": {
            "text/plain": [
              "array([[12,  8, 10, 15, 16],\n",
              "       [ 4,  5, 15, 15, 16]])"
            ]
          },
          "metadata": {},
          "execution_count": 7
        }
      ]
    },
    {
      "cell_type": "code",
      "source": [
        "#En este caso el número mayor de la primer fila es 19 y de la segunda fila es 10\n",
        "matriz.max(1) #el eje 1 son filas"
      ],
      "metadata": {
        "colab": {
          "base_uri": "https://localhost:8080/"
        },
        "id": "qxvHdXXOtzid",
        "outputId": "2f3f34d8-378a-4755-cef5-d1dfa208d832"
      },
      "execution_count": 8,
      "outputs": [
        {
          "output_type": "execute_result",
          "data": {
            "text/plain": [
              "array([16, 16])"
            ]
          },
          "metadata": {},
          "execution_count": 8
        }
      ]
    },
    {
      "cell_type": "code",
      "source": [
        "#obteniendo el mayor por columnas , es decir, el eje 0\n",
        "matriz.max(0)"
      ],
      "metadata": {
        "colab": {
          "base_uri": "https://localhost:8080/"
        },
        "id": "cRBJ6eI9us2E",
        "outputId": "756fe772-5aac-4189-94b6-441c08278e2d"
      },
      "execution_count": 9,
      "outputs": [
        {
          "output_type": "execute_result",
          "data": {
            "text/plain": [
              "array([12,  8, 15, 15, 16])"
            ]
          },
          "metadata": {},
          "execution_count": 9
        }
      ]
    },
    {
      "cell_type": "markdown",
      "source": [
        "**argmax:**  nos dice en que indice se encuentra el valor más grande de nuestro array"
      ],
      "metadata": {
        "id": "xTkZ-ErAbSh-"
      }
    },
    {
      "cell_type": "code",
      "source": [
        "#ejemplos\n",
        "#En nuestro array elvalor más grande se encuentra en el indice 3\n",
        "arr.argmax()"
      ],
      "metadata": {
        "colab": {
          "base_uri": "https://localhost:8080/"
        },
        "id": "FtVsphBWbaJp",
        "outputId": "75d4329c-ce81-49f3-9566-d04edc9bb138"
      },
      "execution_count": 10,
      "outputs": [
        {
          "output_type": "execute_result",
          "data": {
            "text/plain": [
              "4"
            ]
          },
          "metadata": {},
          "execution_count": 10
        }
      ]
    },
    {
      "cell_type": "code",
      "source": [
        "#En caso de que haya dos valores repetidos, argmax siempre muestra el de menor indice\n",
        "matriz.argmax()"
      ],
      "metadata": {
        "colab": {
          "base_uri": "https://localhost:8080/"
        },
        "id": "l3_XhhOxbt71",
        "outputId": "bea97e48-f525-491b-9d64-b219ea5b722d"
      },
      "execution_count": 11,
      "outputs": [
        {
          "output_type": "execute_result",
          "data": {
            "text/plain": [
              "4"
            ]
          },
          "metadata": {},
          "execution_count": 11
        }
      ]
    },
    {
      "cell_type": "markdown",
      "source": [
        "# **Obtener el valor menor de un array**"
      ],
      "metadata": {
        "id": "_qa72ZZXfpS8"
      }
    },
    {
      "cell_type": "markdown",
      "source": [
        "**min:** nos devuelve el valor más pequeño del array o matriz "
      ],
      "metadata": {
        "id": "YmWWwq8keGdU"
      }
    },
    {
      "cell_type": "code",
      "source": [
        "arr.min()"
      ],
      "metadata": {
        "colab": {
          "base_uri": "https://localhost:8080/"
        },
        "id": "o1dtnRnPcA9T",
        "outputId": "79b4d0a4-22fc-4367-9bb5-8d4aa5598231"
      },
      "execution_count": 12,
      "outputs": [
        {
          "output_type": "execute_result",
          "data": {
            "text/plain": [
              "4"
            ]
          },
          "metadata": {},
          "execution_count": 12
        }
      ]
    },
    {
      "cell_type": "code",
      "source": [
        "matriz.min()"
      ],
      "metadata": {
        "colab": {
          "base_uri": "https://localhost:8080/"
        },
        "id": "6nj2z1y2eTYU",
        "outputId": "ea6b3094-297b-450f-acd9-af84e8b88067"
      },
      "execution_count": 13,
      "outputs": [
        {
          "output_type": "execute_result",
          "data": {
            "text/plain": [
              "4"
            ]
          },
          "metadata": {},
          "execution_count": 13
        }
      ]
    },
    {
      "cell_type": "code",
      "source": [
        "matriz"
      ],
      "metadata": {
        "colab": {
          "base_uri": "https://localhost:8080/"
        },
        "id": "cjyM9hNWfRC3",
        "outputId": "ba2610b1-f3a5-4556-a811-358c7eccb1ce"
      },
      "execution_count": 14,
      "outputs": [
        {
          "output_type": "execute_result",
          "data": {
            "text/plain": [
              "array([[12,  8, 10, 15, 16],\n",
              "       [ 4,  5, 15, 15, 16]])"
            ]
          },
          "metadata": {},
          "execution_count": 14
        }
      ]
    },
    {
      "cell_type": "code",
      "source": [
        "#minimo por filas y columnas con 0 y 1, este como argmax nos muestra los indices\n",
        "matriz.argmin(0)"
      ],
      "metadata": {
        "colab": {
          "base_uri": "https://localhost:8080/"
        },
        "id": "Fx7Qvl4SewU9",
        "outputId": "c72d00ea-dd2f-49b3-cc88-be7ce45a3e80"
      },
      "execution_count": 15,
      "outputs": [
        {
          "output_type": "execute_result",
          "data": {
            "text/plain": [
              "array([1, 1, 0, 0, 0])"
            ]
          },
          "metadata": {},
          "execution_count": 15
        }
      ]
    },
    {
      "cell_type": "code",
      "source": [
        "matriz.argmin(1)"
      ],
      "metadata": {
        "colab": {
          "base_uri": "https://localhost:8080/"
        },
        "id": "KwqkUFB-e3H4",
        "outputId": "46c7bbc7-1c77-4a56-d50b-e90ba7373b25"
      },
      "execution_count": 16,
      "outputs": [
        {
          "output_type": "execute_result",
          "data": {
            "text/plain": [
              "array([1, 0])"
            ]
          },
          "metadata": {},
          "execution_count": 16
        }
      ]
    },
    {
      "cell_type": "markdown",
      "source": [
        "# **Pick to Pick ptp**\n",
        "Nos indica la diferencia que hay entre el valor más grande y el valor más pequeño."
      ],
      "metadata": {
        "id": "Y1PJwDflf6eX"
      }
    },
    {
      "cell_type": "code",
      "source": [
        "arr"
      ],
      "metadata": {
        "colab": {
          "base_uri": "https://localhost:8080/"
        },
        "id": "SWOfR7wsga0l",
        "outputId": "44eeb304-2d4e-45b5-937b-e1d32d4f184e"
      },
      "execution_count": 17,
      "outputs": [
        {
          "output_type": "execute_result",
          "data": {
            "text/plain": [
              "array([12,  8, 10, 15, 16,  4,  5, 15, 15, 16])"
            ]
          },
          "metadata": {},
          "execution_count": 17
        }
      ]
    },
    {
      "cell_type": "code",
      "source": [
        "#En este caso el valor menor es 2 y el maximo es 18, por lo que la diferencia entre ambos es de 16\n",
        "arr.ptp()"
      ],
      "metadata": {
        "colab": {
          "base_uri": "https://localhost:8080/"
        },
        "id": "d3SMQOdFgcko",
        "outputId": "ac3da9b3-fc56-42c3-b718-e5e4796897d7"
      },
      "execution_count": 18,
      "outputs": [
        {
          "output_type": "execute_result",
          "data": {
            "text/plain": [
              "12"
            ]
          },
          "metadata": {},
          "execution_count": 18
        }
      ]
    },
    {
      "cell_type": "code",
      "source": [
        "matriz"
      ],
      "metadata": {
        "colab": {
          "base_uri": "https://localhost:8080/"
        },
        "id": "PQ1hL2plgsWM",
        "outputId": "e31eb57c-ad62-4fea-a6c8-cbdc127354ce"
      },
      "execution_count": 19,
      "outputs": [
        {
          "output_type": "execute_result",
          "data": {
            "text/plain": [
              "array([[12,  8, 10, 15, 16],\n",
              "       [ 4,  5, 15, 15, 16]])"
            ]
          },
          "metadata": {},
          "execution_count": 19
        }
      ]
    },
    {
      "cell_type": "code",
      "source": [
        "matriz.ptp()"
      ],
      "metadata": {
        "colab": {
          "base_uri": "https://localhost:8080/"
        },
        "id": "-ip0NiVOguas",
        "outputId": "762914bc-11c3-4965-b248-b6c5c876cd2f"
      },
      "execution_count": 20,
      "outputs": [
        {
          "output_type": "execute_result",
          "data": {
            "text/plain": [
              "12"
            ]
          },
          "metadata": {},
          "execution_count": 20
        }
      ]
    },
    {
      "cell_type": "code",
      "source": [
        "#En una matriz se puede seleccionar el eje\n",
        "#En este caso por columnas\n",
        "matriz.ptp(0)"
      ],
      "metadata": {
        "colab": {
          "base_uri": "https://localhost:8080/"
        },
        "id": "psZuQaL3g7zM",
        "outputId": "01e2782e-316a-4ce5-adf5-0ec8b8d336b6"
      },
      "execution_count": 21,
      "outputs": [
        {
          "output_type": "execute_result",
          "data": {
            "text/plain": [
              "array([8, 3, 5, 0, 0])"
            ]
          },
          "metadata": {},
          "execution_count": 21
        }
      ]
    },
    {
      "cell_type": "code",
      "source": [
        "#Por filas\n",
        "matriz.ptp(1)"
      ],
      "metadata": {
        "colab": {
          "base_uri": "https://localhost:8080/"
        },
        "id": "h3CPOHdEhE_k",
        "outputId": "30a02cdd-efbb-4d8b-b4c6-8260d4fed8d2"
      },
      "execution_count": 22,
      "outputs": [
        {
          "output_type": "execute_result",
          "data": {
            "text/plain": [
              "array([ 8, 12])"
            ]
          },
          "metadata": {},
          "execution_count": 22
        }
      ]
    },
    {
      "cell_type": "markdown",
      "source": [
        "# **Percentile**\n",
        "Me va a especificar directamente el percentil que stoy trabajando.\n",
        "El percentil es una medida de posición usada en estadística que indica, una vez ordenados los datos de menor a mayor, el valor de la variable por debajo del cual se encuentra un porcentaje dado de observaciones en un grupo.\n",
        " For example, if you are at the 80th percentile for height in a group of people, that means 80% of people in that group are shorter than you."
      ],
      "metadata": {
        "id": "hwQPZRpHh5md"
      }
    },
    {
      "cell_type": "code",
      "source": [
        "arr"
      ],
      "metadata": {
        "colab": {
          "base_uri": "https://localhost:8080/"
        },
        "id": "ZqyckqxTiy_K",
        "outputId": "612470a4-6629-4ec5-87b7-71338aa43b07"
      },
      "execution_count": 23,
      "outputs": [
        {
          "output_type": "execute_result",
          "data": {
            "text/plain": [
              "array([12,  8, 10, 15, 16,  4,  5, 15, 15, 16])"
            ]
          },
          "metadata": {},
          "execution_count": 23
        }
      ]
    },
    {
      "cell_type": "code",
      "source": [
        "np.percentile(arr, 50)"
      ],
      "metadata": {
        "colab": {
          "base_uri": "https://localhost:8080/"
        },
        "id": "rDYERZhnii6c",
        "outputId": "2b1d5ff9-5202-4308-cfb2-c1b497e09fee"
      },
      "execution_count": 24,
      "outputs": [
        {
          "output_type": "execute_result",
          "data": {
            "text/plain": [
              "13.5"
            ]
          },
          "metadata": {},
          "execution_count": 24
        }
      ]
    },
    {
      "cell_type": "code",
      "source": [
        "#Percentil 0 es el número más bajo\n",
        "np.percentile(arr, 0)"
      ],
      "metadata": {
        "colab": {
          "base_uri": "https://localhost:8080/"
        },
        "id": "undGWulKi-KK",
        "outputId": "718ef50f-bab8-46bd-af02-9366815de743"
      },
      "execution_count": 25,
      "outputs": [
        {
          "output_type": "execute_result",
          "data": {
            "text/plain": [
              "4.0"
            ]
          },
          "metadata": {},
          "execution_count": 25
        }
      ]
    },
    {
      "cell_type": "code",
      "source": [
        "#Percentil 100 es el número más alto\n",
        "np.percentile(arr, 100)"
      ],
      "metadata": {
        "colab": {
          "base_uri": "https://localhost:8080/"
        },
        "id": "jqcBwHX5jEvy",
        "outputId": "35470f6e-2e79-4899-9b7c-0a8854cc42c2"
      },
      "execution_count": 26,
      "outputs": [
        {
          "output_type": "execute_result",
          "data": {
            "text/plain": [
              "16.0"
            ]
          },
          "metadata": {},
          "execution_count": 26
        }
      ]
    },
    {
      "cell_type": "markdown",
      "source": [
        "**sort:** permite ordenar un arreglo"
      ],
      "metadata": {
        "id": "VmqkqLKZjYXx"
      }
    },
    {
      "cell_type": "code",
      "source": [
        "#Por eeso el percentil 50 es 8 , suma 9 + 7 y  lo divide entre 2 , pero los valores deben estar ordenados\n",
        "arr.sort()\n",
        "arr"
      ],
      "metadata": {
        "colab": {
          "base_uri": "https://localhost:8080/"
        },
        "id": "3cWZr6ycjX2Z",
        "outputId": "97eb7db3-238c-4b61-eaf9-e1a6c1429449"
      },
      "execution_count": 27,
      "outputs": [
        {
          "output_type": "execute_result",
          "data": {
            "text/plain": [
              "array([ 4,  5,  8, 10, 12, 15, 15, 15, 16, 16])"
            ]
          },
          "metadata": {},
          "execution_count": 27
        }
      ]
    },
    {
      "cell_type": "markdown",
      "source": [
        "# **Obtener la mediana**\n",
        "La mediana es un valor que divide un conjunto de datos en dos partes iguales. Es una medida de tendencia central que se utiliza para representar el valor “típico” de un conjunto de datos. Para calcular la mediana, primero se ordenan los datos de menor a mayor y luego se selecciona el valor del medio. Si el número de datos es par, la mediana es el promedio de los dos valores centrales.\n",
        "\n",
        "Para calcular la mediana de un conjunto de datos, primero debes ordenar los datos de menor a mayor. Si el número de datos es impar, la mediana es el valor que está justo en el medio. Por ejemplo, si tienes 5 datos: 1, 3, 4, 6 y 8, la mediana sería 4.\n",
        "\n",
        "Si el número de datos es par, la mediana es el promedio de los dos valores centrales. Por ejemplo, si tienes 6 datos: 1, 3, 4, 6, 8 y 9, los dos valores centrales son 4 y 6. La mediana sería (4 + 6) / 2 = 5."
      ],
      "metadata": {
        "id": "9P3qnxwMkcMS"
      }
    },
    {
      "cell_type": "code",
      "source": [
        "arr"
      ],
      "metadata": {
        "colab": {
          "base_uri": "https://localhost:8080/"
        },
        "id": "bZ081r37kfVR",
        "outputId": "ecd5b992-5f26-41cc-a054-5ca1ab41a5f7"
      },
      "execution_count": 28,
      "outputs": [
        {
          "output_type": "execute_result",
          "data": {
            "text/plain": [
              "array([ 4,  5,  8, 10, 12, 15, 15, 15, 16, 16])"
            ]
          },
          "metadata": {},
          "execution_count": 28
        }
      ]
    },
    {
      "cell_type": "code",
      "source": [
        "#La emdiana y el percentil 50 son exactamente lo mismo\n",
        "np.median(arr)"
      ],
      "metadata": {
        "colab": {
          "base_uri": "https://localhost:8080/"
        },
        "id": "zM5q2dDSkhvK",
        "outputId": "62ae0746-af8e-4797-fddf-32f6035fea16"
      },
      "execution_count": 29,
      "outputs": [
        {
          "output_type": "execute_result",
          "data": {
            "text/plain": [
              "13.5"
            ]
          },
          "metadata": {},
          "execution_count": 29
        }
      ]
    },
    {
      "cell_type": "code",
      "source": [
        "#En la matriz se puede obtener la mediana por los ejes 0 y 1\n",
        "np.median(matriz,0) #filas"
      ],
      "metadata": {
        "colab": {
          "base_uri": "https://localhost:8080/"
        },
        "id": "suRtWlqYkvoW",
        "outputId": "8b9af776-0eb0-4744-8e4c-584e1712b53f"
      },
      "execution_count": 30,
      "outputs": [
        {
          "output_type": "execute_result",
          "data": {
            "text/plain": [
              "array([ 9.5, 10. , 11.5, 13. , 14. ])"
            ]
          },
          "metadata": {},
          "execution_count": 30
        }
      ]
    },
    {
      "cell_type": "code",
      "source": [
        "np.median(matriz, 1)#columnas"
      ],
      "metadata": {
        "colab": {
          "base_uri": "https://localhost:8080/"
        },
        "id": "VpDmZlZJk61Q",
        "outputId": "003c060f-d5ce-4ec2-b201-5a7e890c29ec"
      },
      "execution_count": 31,
      "outputs": [
        {
          "output_type": "execute_result",
          "data": {
            "text/plain": [
              "array([ 8., 15.])"
            ]
          },
          "metadata": {},
          "execution_count": 31
        }
      ]
    },
    {
      "cell_type": "markdown",
      "source": [
        "# **Obtener la desviación estandar**\n",
        "La desviación estándar es un índice numérico de la dispersión de un conjunto de datos (o población). Mientras mayor es la desviación estándar, mayor es la dispersión de la población. La desviación estándar es un promedio de las desviaciones individuales de cada observación con respecto a la media de una distribución.\n",
        "\n",
        "Para calcular la desviación estándar de una muestra de datos, primero debes hallar la media aritmética de los datos. Luego, debes calcular las desviaciones de cada dato respecto a la media (restar la media a cada dato). Después, debes elevar al cuadrado cada una de estas desviaciones y sumarlas todas. Finalmente, debes dividir el resultado entre el número total de datos y calcular la raíz cuadrada del resultado.\n",
        "\n",
        "Ejemplo: \n",
        "1.   Primero calculamos la media aritmética: (2 + 4 + 6 + 8 + 10) / 5 = 6.\n",
        "2.   Luego calculamos las desviaciones de cada dato respecto a la media: 2 - 6 = -4, 4 - 6 = -2, 6 - 6 = 0, 8 - 6 = 2 y 10 - 6 = 4.\n",
        "3.   Después elevamos al cuadrado cada una de estas desviaciones y las sumamos todas: (-4)^2 + (-2)^2 + (0)^2 + (2)^2 + (4)^2 = 40.\n",
        "4.  \n",
        "Finalmente dividimos el resultado entre el número total de datos y calculamos la raíz cuadrada del resultado: √(40 / 5) ≈ 2.83.\n",
        "Por lo tanto, la desviación estándar de esta muestra de datos es aproximadamente 2.83.\n",
        "\n"
      ],
      "metadata": {
        "id": "cU0ZhE2plDu6"
      }
    },
    {
      "cell_type": "code",
      "source": [
        "arr"
      ],
      "metadata": {
        "colab": {
          "base_uri": "https://localhost:8080/"
        },
        "id": "7KcL7rP4lH2p",
        "outputId": "21475148-67b8-4764-ea43-7f1cf0eccb95"
      },
      "execution_count": 32,
      "outputs": [
        {
          "output_type": "execute_result",
          "data": {
            "text/plain": [
              "array([ 4,  5,  8, 10, 12, 15, 15, 15, 16, 16])"
            ]
          },
          "metadata": {},
          "execution_count": 32
        }
      ]
    },
    {
      "cell_type": "code",
      "source": [
        "np.std(arr)"
      ],
      "metadata": {
        "colab": {
          "base_uri": "https://localhost:8080/"
        },
        "id": "1e9zOREPmIjI",
        "outputId": "2210a494-8d6e-4ffc-be6a-adcdeef9c079"
      },
      "execution_count": 33,
      "outputs": [
        {
          "output_type": "execute_result",
          "data": {
            "text/plain": [
              "4.363484845854286"
            ]
          },
          "metadata": {},
          "execution_count": 33
        }
      ]
    },
    {
      "cell_type": "markdown",
      "source": [
        "# **Varianza**\n",
        "La varianza es una medida de dispersión que representa la variabilidad de una serie de datos respecto a su media.\n",
        "Supongamos que tenemos un conjunto de datos: 2, 4, 4, 4, 5, 5, 7, 9.\n",
        "\n",
        "Primero calculamos la media de los datos: (2+4+4+4+5+5+7+9)/8 = 5.\n",
        "\n",
        "Luego calculamos los residuos al cuadrado: (2-5)² = 9; (4-5)² = 1; (4-5)² = 1; (4-5)² = 1; (5-5)² = 0; (5-5)² = 0; (7-5)² = 4; (9-5)² = 16.\n",
        "\n",
        "Finalmente sumamos los residuos al cuadrado y dividimos entre el total de observaciones: (9+1+1+1+0+0+4+16)/8 = 4.5.\n",
        "\n",
        "Entonces la varianza de este conjunto de datos es 4.5.\n",
        "\n",
        "Nota: La desviación estandar elevada al cuadrado es igual a la varianza"
      ],
      "metadata": {
        "id": "3WGLMcIrmv9F"
      }
    },
    {
      "cell_type": "code",
      "source": [
        "arr"
      ],
      "metadata": {
        "colab": {
          "base_uri": "https://localhost:8080/"
        },
        "id": "254UlpannSO2",
        "outputId": "2e6f341f-33f5-4c0a-d210-c53104bd58d5"
      },
      "execution_count": 34,
      "outputs": [
        {
          "output_type": "execute_result",
          "data": {
            "text/plain": [
              "array([ 4,  5,  8, 10, 12, 15, 15, 15, 16, 16])"
            ]
          },
          "metadata": {},
          "execution_count": 34
        }
      ]
    },
    {
      "cell_type": "code",
      "source": [
        "np.var(arr)"
      ],
      "metadata": {
        "colab": {
          "base_uri": "https://localhost:8080/"
        },
        "id": "WE3vJvzDnveu",
        "outputId": "5fb613ba-d081-42e8-9776-df6925f3ea36"
      },
      "execution_count": 35,
      "outputs": [
        {
          "output_type": "execute_result",
          "data": {
            "text/plain": [
              "19.040000000000003"
            ]
          },
          "metadata": {},
          "execution_count": 35
        }
      ]
    },
    {
      "cell_type": "markdown",
      "source": [
        "# **Obtener e promedio o la media**"
      ],
      "metadata": {
        "id": "elKlTt0aodad"
      }
    },
    {
      "cell_type": "code",
      "source": [
        "arr"
      ],
      "metadata": {
        "colab": {
          "base_uri": "https://localhost:8080/"
        },
        "id": "FZJZ7gK4olXU",
        "outputId": "317eea14-cda1-4bce-b53f-86b89ec511ba"
      },
      "execution_count": 36,
      "outputs": [
        {
          "output_type": "execute_result",
          "data": {
            "text/plain": [
              "array([ 4,  5,  8, 10, 12, 15, 15, 15, 16, 16])"
            ]
          },
          "metadata": {},
          "execution_count": 36
        }
      ]
    },
    {
      "cell_type": "code",
      "source": [
        "np.mean(arr)"
      ],
      "metadata": {
        "colab": {
          "base_uri": "https://localhost:8080/"
        },
        "id": "gcuNePXromms",
        "outputId": "33ef9aae-3089-40a8-8c80-3d89318e6c2a"
      },
      "execution_count": 37,
      "outputs": [
        {
          "output_type": "execute_result",
          "data": {
            "text/plain": [
              "11.6"
            ]
          },
          "metadata": {},
          "execution_count": 37
        }
      ]
    },
    {
      "cell_type": "markdown",
      "source": [
        "# **Concatenación**\n"
      ],
      "metadata": {
        "id": "p2r6bGzrph0O"
      }
    },
    {
      "cell_type": "code",
      "source": [
        "a = np.array([[1, 2], [3, 4]])\n",
        "a"
      ],
      "metadata": {
        "id": "wk1t0jinpl5P",
        "colab": {
          "base_uri": "https://localhost:8080/"
        },
        "outputId": "f50a17bb-2ceb-43aa-9135-27643cf51643"
      },
      "execution_count": 38,
      "outputs": [
        {
          "output_type": "execute_result",
          "data": {
            "text/plain": [
              "array([[1, 2],\n",
              "       [3, 4]])"
            ]
          },
          "metadata": {},
          "execution_count": 38
        }
      ]
    },
    {
      "cell_type": "code",
      "source": [
        "b = np.array([5, 6])\n",
        "b"
      ],
      "metadata": {
        "colab": {
          "base_uri": "https://localhost:8080/"
        },
        "id": "32uLDVMYJ_wG",
        "outputId": "aeca99bb-d01c-4072-b2bb-50d3903417ca"
      },
      "execution_count": 61,
      "outputs": [
        {
          "output_type": "execute_result",
          "data": {
            "text/plain": [
              "array([5, 6])"
            ]
          },
          "metadata": {},
          "execution_count": 61
        }
      ]
    },
    {
      "cell_type": "code",
      "source": [
        "#concatenando arreglos, las dimensiones deben ser iguales\n",
        "#se puede checar con a.ndim y b.ndim\n",
        "#en este caso b solo tiene una dimension , por lo que tenemos que expandir su dimension\n",
        "b = np.expand_dims(b, axis=0)\n",
        "b"
      ],
      "metadata": {
        "colab": {
          "base_uri": "https://localhost:8080/"
        },
        "id": "-YFZ403FKH7G",
        "outputId": "6e677930-2f3f-42f2-9e86-b21a17c41e01"
      },
      "execution_count": 62,
      "outputs": [
        {
          "output_type": "execute_result",
          "data": {
            "text/plain": [
              "array([[5, 6]])"
            ]
          },
          "metadata": {},
          "execution_count": 62
        }
      ]
    },
    {
      "cell_type": "code",
      "source": [
        "a.ndim"
      ],
      "metadata": {
        "colab": {
          "base_uri": "https://localhost:8080/"
        },
        "id": "iO6FdkNklvHd",
        "outputId": "5b48362e-fb9b-43cb-eafe-b4651867cea3"
      },
      "execution_count": 47,
      "outputs": [
        {
          "output_type": "execute_result",
          "data": {
            "text/plain": [
              "2"
            ]
          },
          "metadata": {},
          "execution_count": 47
        }
      ]
    },
    {
      "cell_type": "code",
      "source": [
        "b.ndim"
      ],
      "metadata": {
        "colab": {
          "base_uri": "https://localhost:8080/"
        },
        "id": "vUL3BdrGlkiH",
        "outputId": "493b110b-c84a-4c20-f9e9-ecd5d052e4e8"
      },
      "execution_count": 63,
      "outputs": [
        {
          "output_type": "execute_result",
          "data": {
            "text/plain": [
              "2"
            ]
          },
          "metadata": {},
          "execution_count": 63
        }
      ]
    },
    {
      "cell_type": "code",
      "source": [
        "#concatenando\n",
        "np.concatenate((a, b), axis = 0)"
      ],
      "metadata": {
        "colab": {
          "base_uri": "https://localhost:8080/"
        },
        "id": "eN9Z4nEIlPYU",
        "outputId": "8f198dee-baec-4bb8-dd47-227f24dd7eac"
      },
      "execution_count": 64,
      "outputs": [
        {
          "output_type": "execute_result",
          "data": {
            "text/plain": [
              "array([[1, 2],\n",
              "       [3, 4],\n",
              "       [5, 6]])"
            ]
          },
          "metadata": {},
          "execution_count": 64
        }
      ]
    },
    {
      "cell_type": "code",
      "source": [
        "#Transpuesta de una matriz, si hay una matriz 3x2 la transpuesta seria 2x3\n",
        "np.concatenate((a,b.T), axis=1)"
      ],
      "metadata": {
        "colab": {
          "base_uri": "https://localhost:8080/"
        },
        "id": "WsMwn8BemvVC",
        "outputId": "a1091bb6-f37e-4ebd-fcac-1f05878500b7"
      },
      "execution_count": 65,
      "outputs": [
        {
          "output_type": "execute_result",
          "data": {
            "text/plain": [
              "array([[1, 2, 5],\n",
              "       [3, 4, 6]])"
            ]
          },
          "metadata": {},
          "execution_count": 65
        }
      ]
    }
  ]
}